{
 "cells": [
  {
   "cell_type": "code",
   "execution_count": 1,
   "id": "c7722ad4",
   "metadata": {},
   "outputs": [],
   "source": [
    "%reload_ext autoreload\n",
    "%autoreload 2"
   ]
  },
  {
   "cell_type": "code",
   "execution_count": 2,
   "id": "98d9c382",
   "metadata": {},
   "outputs": [],
   "source": [
    "# Data Manip\n",
    "import numpy as np\n",
    "import pandas as pd\n",
    "\n",
    "# Dataviz\n",
    "import matplotlib.pyplot as plt\n",
    "import seaborn as sns"
   ]
  },
  {
   "cell_type": "markdown",
   "id": "dec3c912",
   "metadata": {},
   "source": [
    "## 1. Chargement du dataset et preparation des données pour ML"
   ]
  },
  {
   "cell_type": "markdown",
   "id": "521475c5",
   "metadata": {},
   "source": [
    "### 1.1 Chargement du dataset"
   ]
  },
  {
   "cell_type": "code",
   "execution_count": 3,
   "id": "9c09dae3",
   "metadata": {},
   "outputs": [
    {
     "data": {
      "text/html": [
       "<div>\n",
       "<style scoped>\n",
       "    .dataframe tbody tr th:only-of-type {\n",
       "        vertical-align: middle;\n",
       "    }\n",
       "\n",
       "    .dataframe tbody tr th {\n",
       "        vertical-align: top;\n",
       "    }\n",
       "\n",
       "    .dataframe thead th {\n",
       "        text-align: right;\n",
       "    }\n",
       "</style>\n",
       "<table border=\"1\" class=\"dataframe\">\n",
       "  <thead>\n",
       "    <tr style=\"text-align: right;\">\n",
       "      <th></th>\n",
       "      <th>id</th>\n",
       "      <th>age</th>\n",
       "      <th>gender</th>\n",
       "      <th>study_hours_per_day</th>\n",
       "      <th>social_media_hours</th>\n",
       "      <th>netflix_hours</th>\n",
       "      <th>part_time_job</th>\n",
       "      <th>attendance_percentage</th>\n",
       "      <th>sleep_hours</th>\n",
       "      <th>diet_quality</th>\n",
       "      <th>exercise_frequency</th>\n",
       "      <th>parental_education_level</th>\n",
       "      <th>internet_quality</th>\n",
       "      <th>mental_health_rating</th>\n",
       "      <th>extracurricular_participation</th>\n",
       "      <th>exam_score</th>\n",
       "    </tr>\n",
       "  </thead>\n",
       "  <tbody>\n",
       "    <tr>\n",
       "      <th>0</th>\n",
       "      <td>1000</td>\n",
       "      <td>23</td>\n",
       "      <td>Female</td>\n",
       "      <td>0.0</td>\n",
       "      <td>1.2</td>\n",
       "      <td>1.1</td>\n",
       "      <td>No</td>\n",
       "      <td>85.0</td>\n",
       "      <td>8.0</td>\n",
       "      <td>Fair</td>\n",
       "      <td>6</td>\n",
       "      <td>Master</td>\n",
       "      <td>Average</td>\n",
       "      <td>8</td>\n",
       "      <td>Yes</td>\n",
       "      <td>56.2</td>\n",
       "    </tr>\n",
       "    <tr>\n",
       "      <th>1</th>\n",
       "      <td>1001</td>\n",
       "      <td>20</td>\n",
       "      <td>Female</td>\n",
       "      <td>6.9</td>\n",
       "      <td>2.8</td>\n",
       "      <td>2.3</td>\n",
       "      <td>No</td>\n",
       "      <td>97.3</td>\n",
       "      <td>4.6</td>\n",
       "      <td>Good</td>\n",
       "      <td>6</td>\n",
       "      <td>High School</td>\n",
       "      <td>Average</td>\n",
       "      <td>8</td>\n",
       "      <td>No</td>\n",
       "      <td>100.0</td>\n",
       "    </tr>\n",
       "    <tr>\n",
       "      <th>2</th>\n",
       "      <td>1002</td>\n",
       "      <td>21</td>\n",
       "      <td>Male</td>\n",
       "      <td>1.4</td>\n",
       "      <td>3.1</td>\n",
       "      <td>1.3</td>\n",
       "      <td>No</td>\n",
       "      <td>94.8</td>\n",
       "      <td>8.0</td>\n",
       "      <td>Poor</td>\n",
       "      <td>1</td>\n",
       "      <td>High School</td>\n",
       "      <td>Poor</td>\n",
       "      <td>1</td>\n",
       "      <td>No</td>\n",
       "      <td>34.3</td>\n",
       "    </tr>\n",
       "    <tr>\n",
       "      <th>3</th>\n",
       "      <td>1003</td>\n",
       "      <td>23</td>\n",
       "      <td>Female</td>\n",
       "      <td>1.0</td>\n",
       "      <td>3.9</td>\n",
       "      <td>1.0</td>\n",
       "      <td>No</td>\n",
       "      <td>71.0</td>\n",
       "      <td>9.2</td>\n",
       "      <td>Poor</td>\n",
       "      <td>4</td>\n",
       "      <td>Master</td>\n",
       "      <td>Good</td>\n",
       "      <td>1</td>\n",
       "      <td>Yes</td>\n",
       "      <td>26.8</td>\n",
       "    </tr>\n",
       "    <tr>\n",
       "      <th>4</th>\n",
       "      <td>1004</td>\n",
       "      <td>19</td>\n",
       "      <td>Female</td>\n",
       "      <td>5.0</td>\n",
       "      <td>4.4</td>\n",
       "      <td>0.5</td>\n",
       "      <td>No</td>\n",
       "      <td>90.9</td>\n",
       "      <td>4.9</td>\n",
       "      <td>Fair</td>\n",
       "      <td>3</td>\n",
       "      <td>Master</td>\n",
       "      <td>Good</td>\n",
       "      <td>1</td>\n",
       "      <td>No</td>\n",
       "      <td>66.4</td>\n",
       "    </tr>\n",
       "  </tbody>\n",
       "</table>\n",
       "</div>"
      ],
      "text/plain": [
       "     id  age  gender  study_hours_per_day  social_media_hours  netflix_hours  \\\n",
       "0  1000   23  Female                  0.0                 1.2            1.1   \n",
       "1  1001   20  Female                  6.9                 2.8            2.3   \n",
       "2  1002   21    Male                  1.4                 3.1            1.3   \n",
       "3  1003   23  Female                  1.0                 3.9            1.0   \n",
       "4  1004   19  Female                  5.0                 4.4            0.5   \n",
       "\n",
       "  part_time_job  attendance_percentage  sleep_hours diet_quality  \\\n",
       "0            No                   85.0          8.0         Fair   \n",
       "1            No                   97.3          4.6         Good   \n",
       "2            No                   94.8          8.0         Poor   \n",
       "3            No                   71.0          9.2         Poor   \n",
       "4            No                   90.9          4.9         Fair   \n",
       "\n",
       "   exercise_frequency parental_education_level internet_quality  \\\n",
       "0                   6                   Master          Average   \n",
       "1                   6              High School          Average   \n",
       "2                   1              High School             Poor   \n",
       "3                   4                   Master             Good   \n",
       "4                   3                   Master             Good   \n",
       "\n",
       "   mental_health_rating extracurricular_participation  exam_score  \n",
       "0                     8                           Yes        56.2  \n",
       "1                     8                            No       100.0  \n",
       "2                     1                            No        34.3  \n",
       "3                     1                           Yes        26.8  \n",
       "4                     1                            No        66.4  "
      ]
     },
     "execution_count": 3,
     "metadata": {},
     "output_type": "execute_result"
    }
   ],
   "source": [
    "shp = pd.read_csv(\"../transformed\\student_habits_performance.csv\")\n",
    "shp.head()"
   ]
  },
  {
   "cell_type": "code",
   "execution_count": 4,
   "id": "b670b109",
   "metadata": {},
   "outputs": [
    {
     "name": "stdout",
     "output_type": "stream",
     "text": [
      "<class 'pandas.core.frame.DataFrame'>\n",
      "RangeIndex: 1000 entries, 0 to 999\n",
      "Data columns (total 16 columns):\n",
      " #   Column                         Non-Null Count  Dtype  \n",
      "---  ------                         --------------  -----  \n",
      " 0   id                             1000 non-null   int64  \n",
      " 1   age                            1000 non-null   int64  \n",
      " 2   gender                         1000 non-null   object \n",
      " 3   study_hours_per_day            1000 non-null   float64\n",
      " 4   social_media_hours             1000 non-null   float64\n",
      " 5   netflix_hours                  1000 non-null   float64\n",
      " 6   part_time_job                  1000 non-null   object \n",
      " 7   attendance_percentage          1000 non-null   float64\n",
      " 8   sleep_hours                    1000 non-null   float64\n",
      " 9   diet_quality                   1000 non-null   object \n",
      " 10  exercise_frequency             1000 non-null   int64  \n",
      " 11  parental_education_level       1000 non-null   object \n",
      " 12  internet_quality               1000 non-null   object \n",
      " 13  mental_health_rating           1000 non-null   int64  \n",
      " 14  extracurricular_participation  1000 non-null   object \n",
      " 15  exam_score                     1000 non-null   float64\n",
      "dtypes: float64(6), int64(4), object(6)\n",
      "memory usage: 125.1+ KB\n"
     ]
    }
   ],
   "source": [
    "shp.info()"
   ]
  },
  {
   "cell_type": "markdown",
   "id": "fdfe53c6",
   "metadata": {},
   "source": [
    "### 1.2 Data Manipulation pour les varaibles catégorielles"
   ]
  },
  {
   "cell_type": "code",
   "execution_count": 6,
   "id": "eff306e6",
   "metadata": {},
   "outputs": [
    {
     "data": {
      "text/plain": [
       "Index(['id', 'age', 'study_hours_per_day', 'social_media_hours',\n",
       "       'netflix_hours', 'attendance_percentage', 'sleep_hours',\n",
       "       'exercise_frequency', 'mental_health_rating', 'exam_score',\n",
       "       'gender_Female', 'gender_Male', 'gender_Other', 'part_time_job_No',\n",
       "       'part_time_job_Yes', 'diet_quality_Fair', 'diet_quality_Good',\n",
       "       'diet_quality_Poor', 'parental_education_level_Bachelor',\n",
       "       'parental_education_level_High School',\n",
       "       'parental_education_level_Master', 'parental_education_level_Unknown',\n",
       "       'internet_quality_Average', 'internet_quality_Good',\n",
       "       'internet_quality_Poor', 'extracurricular_participation_No',\n",
       "       'extracurricular_participation_Yes'],\n",
       "      dtype='object')"
      ]
     },
     "execution_count": 6,
     "metadata": {},
     "output_type": "execute_result"
    }
   ],
   "source": [
    "shpml = pd.get_dummies(shp)\n",
    "shpml.columns"
   ]
  },
  {
   "cell_type": "code",
   "execution_count": 9,
   "id": "2fc87e3e",
   "metadata": {},
   "outputs": [
    {
     "data": {
      "text/plain": [
       "Index(['age', 'study_hours_per_day', 'social_media_hours', 'netflix_hours',\n",
       "       'attendance_percentage', 'sleep_hours', 'exercise_frequency',\n",
       "       'mental_health_rating', 'gender_Female', 'gender_Male', 'gender_Other',\n",
       "       'part_time_job_No', 'part_time_job_Yes', 'diet_quality_Fair',\n",
       "       'diet_quality_Good', 'diet_quality_Poor',\n",
       "       'parental_education_level_Bachelor',\n",
       "       'parental_education_level_High School',\n",
       "       'parental_education_level_Master', 'parental_education_level_Unknown',\n",
       "       'internet_quality_Average', 'internet_quality_Good',\n",
       "       'internet_quality_Poor', 'extracurricular_participation_No',\n",
       "       'extracurricular_participation_Yes'],\n",
       "      dtype='object')"
      ]
     },
     "execution_count": 9,
     "metadata": {},
     "output_type": "execute_result"
    }
   ],
   "source": [
    "y = shpml.exam_score\n",
    "X = shpml.drop(columns = [\"id\", \"exam_score\"])\n",
    "X.columns"
   ]
  },
  {
   "cell_type": "code",
   "execution_count": null,
   "id": "255f356d",
   "metadata": {},
   "outputs": [],
   "source": []
  }
 ],
 "metadata": {
  "kernelspec": {
   "display_name": "Python 3",
   "language": "python",
   "name": "python3"
  },
  "language_info": {
   "codemirror_mode": {
    "name": "ipython",
    "version": 3
   },
   "file_extension": ".py",
   "mimetype": "text/x-python",
   "name": "python",
   "nbconvert_exporter": "python",
   "pygments_lexer": "ipython3",
   "version": "3.11.9"
  }
 },
 "nbformat": 4,
 "nbformat_minor": 5
}
